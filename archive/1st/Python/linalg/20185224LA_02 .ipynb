{
 "cells": [
  {
   "cell_type": "code",
   "execution_count": 51,
   "metadata": {},
   "outputs": [
    {
     "name": "stdout",
     "output_type": "stream",
     "text": [
      "(1, 4) (2, 3) (3, 3)\n"
     ]
    }
   ],
   "source": [
    "#1\n",
    "import numpy as np\n",
    "\n",
    "A = np.array([[3,6,0,7]])\n",
    "\n",
    "B = np.array([[7,13,2],[0,6,4]])\n",
    "\n",
    "C = np.array([[4,1,-2],[-4,9,12],[2,15,-6]])\n",
    "\n",
    "print(np.shape(A), np.shape(B), np.shape(C))"
   ]
  },
  {
   "cell_type": "code",
   "execution_count": 52,
   "metadata": {},
   "outputs": [
    {
     "name": "stdout",
     "output_type": "stream",
     "text": [
      "[[1. 0.]\n",
      " [0. 1.]]\n",
      "[[1. 0. 0.]\n",
      " [0. 1. 0.]\n",
      " [0. 0. 1.]]\n"
     ]
    }
   ],
   "source": [
    "#2\n",
    "import numpy as np\n",
    "\n",
    "print(np.eye(2))\n",
    "print(np.eye(3))"
   ]
  },
  {
   "cell_type": "code",
   "execution_count": 53,
   "metadata": {},
   "outputs": [
    {
     "name": "stdout",
     "output_type": "stream",
     "text": [
      "9\n",
      "[ 9 -5 -6  3]\n",
      "[-8  9  3]\n"
     ]
    }
   ],
   "source": [
    "#3\n",
    "import numpy as np\n",
    "\n",
    "A=np.array([[7,5,0,-8],[2,3,-2,9],[9,-5,-6,3]])\n",
    "\n",
    "print(A[1,3])\n",
    "print(A[2,:])\n",
    "print(A[:,3])"
   ]
  },
  {
   "cell_type": "code",
   "execution_count": 54,
   "metadata": {},
   "outputs": [
    {
     "name": "stdout",
     "output_type": "stream",
     "text": [
      "[[ 7. 14.  2.]\n",
      " [16.  9.  6.]\n",
      " [ 6.  4.  7.]]\n",
      "[[  2  27 -11]\n",
      " [ 16   5  17]\n",
      " [  3   6  10]]\n"
     ]
    }
   ],
   "source": [
    "#4\n",
    "import numpy as np\n",
    "\n",
    "A = np.array([[4,7,1],[8,5,3],[3,2,4]])\n",
    "B = np.array([[5,-3,7],[4,5,-4],[3,0,1]])\n",
    "I=np.eye(3)\n",
    "\n",
    "print(np.subtract(2*A,I))\n",
    "print(np.subtract(3*A,2*B))"
   ]
  },
  {
   "cell_type": "code",
   "execution_count": 55,
   "metadata": {},
   "outputs": [
    {
     "name": "stdout",
     "output_type": "stream",
     "text": [
      "[[13 17]\n",
      " [48 47]]\n",
      "[[ -7   0 -11]\n",
      " [  8  10  14]\n",
      " [ 32  47  57]]\n"
     ]
    }
   ],
   "source": [
    "#5\n",
    "import numpy as np\n",
    "\n",
    "A = np.array([[1,3,2],[4,5,7]])\n",
    "B = np.array([[5,-3],[0,2],[4,7]])\n",
    "\n",
    "print(np.dot(A,B))\n",
    "print(np.dot(B,A))"
   ]
  },
  {
   "cell_type": "code",
   "execution_count": 56,
   "metadata": {},
   "outputs": [
    {
     "name": "stdout",
     "output_type": "stream",
     "text": [
      "A의 1승:\n",
      " [[ 0  0  1  0]\n",
      " [ 0  0  0  1]\n",
      " [-1  0  0  0]\n",
      " [ 0 -1  0  0]]\n",
      "A의 2승:\n",
      " [[-1  0  0  0]\n",
      " [ 0 -1  0  0]\n",
      " [ 0  0 -1  0]\n",
      " [ 0  0  0 -1]]\n",
      "A의 3승:\n",
      " [[ 0  0 -1  0]\n",
      " [ 0  0  0 -1]\n",
      " [ 1  0  0  0]\n",
      " [ 0  1  0  0]]\n",
      "A의 4승:\n",
      " [[1 0 0 0]\n",
      " [0 1 0 0]\n",
      " [0 0 1 0]\n",
      " [0 0 0 1]]\n",
      "A의 5승:\n",
      " [[ 0  0  1  0]\n",
      " [ 0  0  0  1]\n",
      " [-1  0  0  0]\n",
      " [ 0 -1  0  0]]\n"
     ]
    }
   ],
   "source": [
    "#6\n",
    "import numpy as np\n",
    "\n",
    "A = np.array([[0,0,1,0],[0,0,0,1],[-1,0,0,0],[0,-1,0,0]])\n",
    "\n",
    "print(\"A의 1승:\\n\", A)\n",
    "B = np.dot(A,A)\n",
    "print(\"A의 2승:\\n\", B)\n",
    "B = np.dot(B,A)\n",
    "print(\"A의 3승:\\n\", B)\n",
    "B = np.dot(B,A)\n",
    "print(\"A의 4승:\\n\", B)\n",
    "B = np.dot(B,A)\n",
    "print(\"A의 5승:\\n\", B)"
   ]
  },
  {
   "cell_type": "code",
   "execution_count": 57,
   "metadata": {},
   "outputs": [
    {
     "name": "stdout",
     "output_type": "stream",
     "text": [
      "[[ 8 20]\n",
      " [ 5 13]]\n",
      "[[13  5]\n",
      " [20  8]]\n",
      "[[ 8 20]\n",
      " [ 5 13]]\n"
     ]
    }
   ],
   "source": [
    "#7\n",
    "import numpy as np\n",
    "\n",
    "A = np.array([[1,2],[3,4]])\n",
    "B = np.array([[4,3],[2,1]])\n",
    "At = np.transpose(A)\n",
    "Bt = np.transpose(B)\n",
    "\n",
    "print(np.transpose(np.dot(A,B)))\n",
    "print(np.dot(At,Bt))\n",
    "print(np.dot(Bt,At))"
   ]
  },
  {
   "cell_type": "code",
   "execution_count": 58,
   "metadata": {},
   "outputs": [
    {
     "name": "stdout",
     "output_type": "stream",
     "text": [
      "69\n",
      "69\n"
     ]
    }
   ],
   "source": [
    "#8\n",
    "import numpy as np\n",
    "\n",
    "A = np.array([[1,2],[3,4]])\n",
    "B = np.array([[5,6],[7,8]])\n",
    "\n",
    "print(np.trace(np.dot(A,B)))\n",
    "print(np.trace(np.dot(B,A)))"
   ]
  },
  {
   "cell_type": "code",
   "execution_count": null,
   "metadata": {},
   "outputs": [],
   "source": []
  }
 ],
 "metadata": {
  "kernelspec": {
   "display_name": "Python 3",
   "language": "python",
   "name": "python3"
  },
  "language_info": {
   "codemirror_mode": {
    "name": "ipython",
    "version": 3
   },
   "file_extension": ".py",
   "mimetype": "text/x-python",
   "name": "python",
   "nbconvert_exporter": "python",
   "pygments_lexer": "ipython3",
   "version": "3.6.5"
  }
 },
 "nbformat": 4,
 "nbformat_minor": 2
}
